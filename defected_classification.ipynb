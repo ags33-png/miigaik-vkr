{
 "cells": [
  {
   "cell_type": "code",
   "execution_count": 10,
   "metadata": {},
   "outputs": [
    {
     "name": "stdout",
     "output_type": "stream",
     "text": [
      "Accuracy: 0.9230769230769231\n",
      "Classification Report:\n",
      "               precision    recall  f1-score   support\n",
      "\n",
      "       False       0.92      1.00      0.96        11\n",
      "        True       1.00      0.50      0.67         2\n",
      "\n",
      "    accuracy                           0.92        13\n",
      "   macro avg       0.96      0.75      0.81        13\n",
      "weighted avg       0.93      0.92      0.91        13\n",
      "\n"
     ]
    },
    {
     "name": "stderr",
     "output_type": "stream",
     "text": [
      "C:\\Users\\User\\AppData\\Local\\Temp\\ipykernel_58888\\131823999.py:52: SettingWithCopyWarning: \n",
      "A value is trying to be set on a copy of a slice from a DataFrame.\n",
      "Try using .loc[row_indexer,col_indexer] = value instead\n",
      "\n",
      "See the caveats in the documentation: https://pandas.pydata.org/pandas-docs/stable/user_guide/indexing.html#returning-a-view-versus-a-copy\n",
      "  features[feature_stats] = scaler.fit_transform(features[feature_stats])\n"
     ]
    }
   ],
   "source": [
    "import pandas as pd\n",
    "from sklearn.model_selection import train_test_split\n",
    "from sklearn.linear_model import LogisticRegression\n",
    "from sklearn.metrics import accuracy_score, classification_report\n",
    "from sklearn.preprocessing import StandardScaler\n",
    "import glob\n",
    "import ast\n",
    "import numpy as np\n",
    "\n",
    "# Функция для безопасного преобразования строки в список\n",
    "def safe_convert_to_list(data_string):\n",
    "    try:\n",
    "        return ast.literal_eval(data_string)\n",
    "    except ValueError:\n",
    "        return None\n",
    "\n",
    "# Загрузка всех файлов CSV из указанной папки\n",
    "file_paths = glob.glob('../preprocessed_data_defected/*.csv')\n",
    "data_frames = []\n",
    "\n",
    "for file_path in file_paths:\n",
    "    df = pd.read_csv(file_path)\n",
    "    \n",
    "    # Преобразование строк в списки чисел для каждого измерения\n",
    "    feature_columns = ['ax', 'ay', 'az', 'gx', 'gy', 'gz']  # Названия колонок с данными датчиков\n",
    "    for col in feature_columns:\n",
    "        df[col] = df[col].apply(safe_convert_to_list)\n",
    "\n",
    "    # Предобработка признаков: извлекаем статистические характеристики из каждого списка\n",
    "    for col in feature_columns:\n",
    "        df[f'{col}_mean'] = df[col].apply(np.mean)\n",
    "        df[f'{col}_std'] = df[col].apply(np.std)\n",
    "        df[f'{col}_min'] = df[col].apply(np.min)\n",
    "        df[f'{col}_max'] = df[col].apply(np.max)\n",
    "\n",
    "    # Включаем класс покрытия как категориальный признак\n",
    "    df['class'] = df['class'].astype('category')\n",
    "    data_frames.append(df)\n",
    "\n",
    "# Объединяем все датафреймы в один\n",
    "combined_data = pd.concat(data_frames, ignore_index=True)\n",
    "\n",
    "# Признаки для модели\n",
    "feature_stats = [f'{col}_{stat}' for col in feature_columns for stat in ['mean', 'std', 'min', 'max']]\n",
    "features = combined_data[feature_stats + ['class']]\n",
    "\n",
    "# Целевая переменная\n",
    "target = combined_data['defected']\n",
    "\n",
    "# Нормализация данных (кроме категориальных переменных)\n",
    "scaler = StandardScaler()\n",
    "features[feature_stats] = scaler.fit_transform(features[feature_stats])\n",
    "\n",
    "# Разделение данных на обучающую и тестовую выборки\n",
    "X_train, X_test, y_train, y_test = train_test_split(features, target, test_size=0.2, random_state=42)\n",
    "\n",
    "# Обучение модели\n",
    "model = LogisticRegression()\n",
    "model.fit(X_train, y_train)\n",
    "\n",
    "# Предсказание на тестовых данных\n",
    "predictions = model.predict(X_test)\n",
    "\n",
    "# Оценка модели\n",
    "accuracy = accuracy_score(y_test, predictions)\n",
    "report = classification_report(y_test, predictions)\n",
    "\n",
    "print(\"Accuracy:\", accuracy)\n",
    "print(\"Classification Report:\\n\", report)\n"
   ]
  }
 ],
 "metadata": {
  "kernelspec": {
   "display_name": "base",
   "language": "python",
   "name": "python3"
  },
  "language_info": {
   "codemirror_mode": {
    "name": "ipython",
    "version": 3
   },
   "file_extension": ".py",
   "mimetype": "text/x-python",
   "name": "python",
   "nbconvert_exporter": "python",
   "pygments_lexer": "ipython3",
   "version": "3.9.13"
  }
 },
 "nbformat": 4,
 "nbformat_minor": 2
}
