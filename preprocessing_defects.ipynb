{
 "cells": [
  {
   "cell_type": "code",
   "execution_count": 6,
   "metadata": {},
   "outputs": [],
   "source": [
    "import pandas as pd \n",
    "import plotly.express as px"
   ]
  },
  {
   "cell_type": "code",
   "execution_count": 31,
   "metadata": {},
   "outputs": [],
   "source": [
    "import os\n",
    "\n",
    "SAVE_PATH = '..\\preprocessed_data_defected'\n",
    "\n",
    "\n",
    "def preproccess_data(data_path):\n",
    "    types_dict = {\n",
    "        \"asphalt\": 0,  # Асфальт\n",
    "        \"tiles\": 1,  # Плитка\n",
    "        \"crumb\": 2,  # крошка\n",
    "        \"stones\": 3,  # брусчатка\n",
    "    }\n",
    "\n",
    "    gyro_df = pd.read_csv(data_path)\n",
    "    gyro_df[\"gx\"] = gyro_df['x']\n",
    "    gyro_df[\"gy\"] = gyro_df['y']\n",
    "    gyro_df[\"gz\"] = gyro_df['z']\n",
    "    gyro_df = gyro_df.drop(columns=['x', 'y', 'z'])\n",
    "\n",
    "    acc_df = pd.read_csv(data_path)\n",
    "    acc_df[\"ax\"] = acc_df['x']\n",
    "    acc_df[\"ay\"] = acc_df['y']\n",
    "    acc_df[\"az\"] = acc_df['z']\n",
    "    acc_df = acc_df.drop(columns=['x', 'y', 'z'])\n",
    "\n",
    "    loc_df = pd.read_csv(data_path)\n",
    "    loc_df = loc_df.drop(columns=['bearingAccuracy', 'speedAccuracy',\n",
    "                         'verticalAccuracy', 'horizontalAccuracy', 'speed', 'bearing', 'altitude',])\n",
    "\n",
    "    df = pd.merge_asof(acc_df, gyro_df, on=\"seconds_elapsed\",\n",
    "                       direction=\"nearest\")\n",
    "    df = pd.merge_asof(df, loc_df, on=\"seconds_elapsed\",\n",
    "                       direction=\"nearest\")\n",
    "    df[\"time\"] = df[\"time_x\"]\n",
    "    df = df.drop(columns=[\"time_x\", \"time_y\"])\n",
    "    cl = None\n",
    "    for item in types_dict:\n",
    "        if item in data_path:\n",
    "            cl = types_dict[item]\n",
    "            break\n",
    "    if cl == None:\n",
    "        print(\"couldn't find class\")\n",
    "    df[\"class\"] = cl\n",
    "    save_file_path = os.path.join(\n",
    "        SAVE_PATH, os.path.basename(data_path)+'.csv')\n",
    "    df.to_csv(save_file_path, index=False)\n",
    "    print(f\"OK – {save_file_path}\")"
   ]
  },
  {
   "cell_type": "code",
   "execution_count": 32,
   "metadata": {},
   "outputs": [
    {
     "name": "stdout",
     "output_type": "stream",
     "text": [
      "Trying ..\\raw_data\\defected\\asphalt_bad_bump-2024-06-15_17-01-46\n",
      "OK – ..\\preprocessed_data_defected\\asphalt_bad_bump-2024-06-15_17-01-46.csv\n",
      "Trying ..\\raw_data\\defected\\asphalt_bump-2024-06-15_16-15-46\n",
      "OK – ..\\preprocessed_data_defected\\asphalt_bump-2024-06-15_16-15-46.csv\n",
      "Trying ..\\raw_data\\defected\\asphalt_curb-2024-06-15_16-10-24\n",
      "OK – ..\\preprocessed_data_defected\\asphalt_curb-2024-06-15_16-10-24.csv\n",
      "Trying ..\\raw_data\\defected\\stones_bad-2024-06-15_15-55-09\n",
      "OK – ..\\preprocessed_data_defected\\stones_bad-2024-06-15_15-55-09.csv\n",
      "Trying ..\\raw_data\\defected\\stones_stair-2024-06-15_16-05-33\n",
      "OK – ..\\preprocessed_data_defected\\stones_stair-2024-06-15_16-05-33.csv\n",
      "Trying ..\\raw_data\\defected\\stones_stair-2024-06-15_16-09-28\n",
      "OK – ..\\preprocessed_data_defected\\stones_stair-2024-06-15_16-09-28.csv\n"
     ]
    }
   ],
   "source": [
    "for data_path in [os.path.join(r\"..\\raw_data\\defected\", path) for path in os.listdir(r\"..\\raw_data\\defected\")]:\n",
    "    print(f\"Trying {data_path}\")\n",
    "    try:\n",
    "        preproccess_data(data_path)\n",
    "    except Exception as e:\n",
    "        print(f'Got error with {data_path}:', e)"
   ]
  },
  {
   "cell_type": "code",
   "execution_count": 10,
   "metadata": {},
   "outputs": [
    {
     "data": {
      "text/plain": [
       "['..\\\\preprocessed_data_defected\\\\asphalt_bad_bump-2024-06-15_17-01-46.csv',\n",
       " '..\\\\preprocessed_data_defected\\\\asphalt_bump-2024-06-15_16-15-46.csv',\n",
       " '..\\\\preprocessed_data_defected\\\\asphalt_curb-2024-06-15_16-10-24.csv',\n",
       " '..\\\\preprocessed_data_defected\\\\stones_bad-2024-06-15_15-55-09.csv',\n",
       " '..\\\\preprocessed_data_defected\\\\stones_stair-2024-06-15_16-05-33.csv',\n",
       " '..\\\\preprocessed_data_defected\\\\stones_stair-2024-06-15_16-09-28.csv']"
      ]
     },
     "execution_count": 10,
     "metadata": {},
     "output_type": "execute_result"
    }
   ],
   "source": [
    "import json\n",
    "\n",
    "[os.path.join(r\"..\\preprocessed_data_defected\", path) for path in os.listdir(r\"..\\preprocessed_data_defected\")]"
   ]
  },
  {
   "cell_type": "code",
   "execution_count": null,
   "metadata": {},
   "outputs": [],
   "source": [
    "import pandas as pd\n",
    "import matplotlib.pyplot as plt\n",
    "\n",
    "# Загружаем данные\n",
    "file_path = r'..\\preprocessed_data_defected\\asphalt_curb-2024-06-15_16-10-24.csv'\n",
    "data = pd.read_csv(file_path)\n",
    "\n",
    "# Округляем время в секундах до целых чисел для группировки\n",
    "data['seconds_elapsed_rounded'] = data['seconds_elapsed'].apply(lambda x: int(x))\n",
    "\n",
    "# Определяем колонки для акселерометра и гироскопа\n",
    "accelerometer_columns = ['ax', 'ay', 'az']\n",
    "gyroscope_columns = ['gx', 'gy', 'gz']\n",
    "\n",
    "# Группируем данные по секундам и агрегируем в списки\n",
    "grouped_data = data.groupby('seconds_elapsed_rounded')[accelerometer_columns + gyroscope_columns].agg(list)\n",
    "\n",
    "# Функция для отображения данных на графиках\n",
    "def plot_sensor_data(sensor_data, sensor_name, columns):\n",
    "    # Создаем фигуру и оси\n",
    "    fig, axs = plt.subplots(len(sensor_data), 1, figsize=(10, len(sensor_data)*2), sharex=True)\n",
    "    if len(sensor_data) == 1:\n",
    "        axs = [axs]  # Если всего один график, превращаем его в список\n",
    "    \n",
    "    for (seconds, row), ax in zip(sensor_data.iterrows(), axs):\n",
    "        for col in columns:\n",
    "            ax.plot(row[col], label=col)\n",
    "        ax.set_title(f'{sensor_name} Data for Second {seconds}')\n",
    "        ax.legend()\n",
    "        ax.grid(True)\n",
    "    \n",
    "    plt.tight_layout()\n",
    "    plt.show()\n",
    "\n",
    "# Отображаем данные акселерометра\n",
    "plot_sensor_data(grouped_data, 'Accelerometer', accelerometer_columns)\n",
    "\n",
    "# Отображаем данные гироскопа\n",
    "plot_sensor_data(grouped_data, 'Gyroscope', gyroscope_columns)"
   ]
  },
  {
   "cell_type": "code",
   "execution_count": 43,
   "metadata": {},
   "outputs": [
    {
     "data": {
      "application/vnd.jupyter.widget-view+json": {
       "model_id": "819fc90a78004c0ca58ec1497e03df71",
       "version_major": 2,
       "version_minor": 0
      },
      "text/plain": [
       "interactive(children=(IntSlider(value=5, description='index', max=10), Output()), _dom_classes=('widget-intera…"
      ]
     },
     "metadata": {},
     "output_type": "display_data"
    },
    {
     "data": {
      "text/plain": [
       "<function __main__.plot_and_label(index)>"
      ]
     },
     "execution_count": 43,
     "metadata": {},
     "output_type": "execute_result"
    },
    {
     "name": "stdout",
     "output_type": "stream",
     "text": [
      "Set defected True for index 2\n"
     ]
    },
    {
     "name": "stdout",
     "output_type": "stream",
     "text": [
      "Set defected True for index 3\n"
     ]
    },
    {
     "name": "stdout",
     "output_type": "stream",
     "text": [
      "Set defected True for index 4\n"
     ]
    },
    {
     "name": "stdout",
     "output_type": "stream",
     "text": [
      "Set defected True for index 5\n"
     ]
    }
   ],
   "source": [
    "import pandas as pd\n",
    "import matplotlib.pyplot as plt\n",
    "from ipywidgets import interact, Button, HBox\n",
    "\n",
    "# Загружаем данные\n",
    "file_path = r'..\\preprocessed_data_defected\\stones_stair-2024-06-15_16-09-28.csv'\n",
    "data = pd.read_csv(file_path)\n",
    "\n",
    "# Округляем время в секундах до целых чисел для группировки\n",
    "data['seconds_elapsed_rounded'] = data['seconds_elapsed'].apply(lambda x: int(x))\n",
    "\n",
    "# Колонки для акселерометра и гироскопа\n",
    "accelerometer_columns = ['ax', 'ay', 'az']\n",
    "gyroscope_columns = ['gx', 'gy', 'gz']\n",
    "\n",
    "# Колонки, которые не должны быть списками\n",
    "other_columns = ['time', 'longitude', 'latitude', 'class']\n",
    "\n",
    "# Группирование и агрегация\n",
    "aggregations = {**{col: list for col in accelerometer_columns + gyroscope_columns},\n",
    "                **{col: 'first' for col in other_columns}}\n",
    "grouped_data = data.groupby('seconds_elapsed_rounded').agg(aggregations).reset_index()\n",
    "\n",
    "# Добавляем столбец для флага defected\n",
    "grouped_data['defected'] = False\n",
    "\n",
    "# Функция для отображения и маркировки данных\n",
    "def plot_and_label(index):\n",
    "    row = grouped_data.iloc[index]\n",
    "    fig, axs = plt.subplots(2, 1, figsize=(10, 6))\n",
    "    \n",
    "    # Построение графиков акселерометра\n",
    "    axs[0].plot(row[accelerometer_columns[0]], label='ax')\n",
    "    axs[0].plot(row[accelerometer_columns[1]], label='ay')\n",
    "    axs[0].plot(row[accelerometer_columns[2]], label='az')\n",
    "    axs[0].set_title('Accelerometer Data')\n",
    "    axs[0].legend()\n",
    "    \n",
    "    # Построение графиков гироскопа\n",
    "    axs[1].plot(row[gyroscope_columns[0]], label='gx')\n",
    "    axs[1].plot(row[gyroscope_columns[1]], label='gy')\n",
    "    axs[1].plot(row[gyroscope_columns[2]], label='gz')\n",
    "    axs[1].set_title('Gyroscope Data')\n",
    "    axs[1].legend()\n",
    "    \n",
    "    plt.show()\n",
    "    \n",
    "    # Кнопки для простановки флага\n",
    "    true_button = Button(description=\"Defected True\")\n",
    "    true_button.on_click(lambda b: set_defected(index, True))\n",
    "    \n",
    "    false_button = Button(description=\"Defected False\")\n",
    "    false_button.on_click(lambda b: set_defected(index, False))\n",
    "    \n",
    "    display(HBox([true_button, false_button]))\n",
    "\n",
    "# Установка флага defected\n",
    "def set_defected(index, value):\n",
    "    grouped_data.at[index, 'defected'] = value\n",
    "    print(f'Set defected {value} for index {index}')\n",
    "\n",
    "# Создание интерактивного элемента для просмотра данных\n",
    "interact(plot_and_label, index=(0, len(grouped_data)-2))"
   ]
  },
  {
   "cell_type": "code",
   "execution_count": 44,
   "metadata": {},
   "outputs": [],
   "source": [
    "grouped_data = grouped_data.drop(grouped_data.tail(1).index) \n",
    "grouped_data.to_csv(file_path)"
   ]
  }
 ],
 "metadata": {
  "kernelspec": {
   "display_name": "base",
   "language": "python",
   "name": "python3"
  },
  "language_info": {
   "codemirror_mode": {
    "name": "ipython",
    "version": 3
   },
   "file_extension": ".py",
   "mimetype": "text/x-python",
   "name": "python",
   "nbconvert_exporter": "python",
   "pygments_lexer": "ipython3",
   "version": "3.9.13"
  }
 },
 "nbformat": 4,
 "nbformat_minor": 2
}
